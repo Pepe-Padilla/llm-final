{
 "cells": [
  {
   "cell_type": "markdown",
   "metadata": {},
   "source": [
    "# Fine-tuning Ultra Simple: Imagen a Texto\n",
    "\n",
    "Versión ultra simplificada sin métricas complejas"
   ]
  },
  {
   "cell_type": "code",
   "execution_count": null,
   "metadata": {},
   "outputs": [],
   "source": [
    "import json\n",
    "import os\n",
    "import torch\n",
    "from transformers import (\n",
    "    VisionEncoderDecoderModel, \n",
    "    ViTImageProcessor, \n",
    "    AutoTokenizer,\n",
    "    TrainingArguments,\n",
    "    Trainer\n",
    ")\n",
    "import mlflow\n",
    "import mlflow.pytorch\n",
    "from PIL import Image\n",
    "from sklearn.model_selection import train_test_split\n",
    "import numpy as np"
   ]
  },
  {
   "cell_type": "code",
   "execution_count": null,
   "metadata": {},
   "outputs": [],
   "source": [
    "# Configuración\n",
    "MODEL_NAME = 'nlpconnect/vit-gpt2-image-captioning'\n",
    "MLFLOW_MODEL_NAME = 'image-to-text-finetuned'\n",
    "mlflow.set_tracking_uri('http://localhost:5000')\n",
    "mlflow.set_experiment('image-finetune')"
   ]
  },
  {
   "cell_type": "code",
   "execution_count": null,
   "metadata": {},
   "outputs": [],
   "source": [
    "# Descargar modelo base\n",
    "print('Descargando modelo base...')\n",
    "model = VisionEncoderDecoderModel.from_pretrained(MODEL_NAME)\n",
    "feature_extractor = ViTImageProcessor.from_pretrained(MODEL_NAME)\n",
    "tokenizer = AutoTokenizer.from_pretrained(MODEL_NAME)\n",
    "print('Modelo base descargado.')"
   ]
  },
  {
   "cell_type": "code",
   "execution_count": null,
   "metadata": {},
   "outputs": [],
   "source": [
    "# Cargar datos\n",
    "print('Cargando datos...')\n",
    "with open('entradas.json', 'r', encoding='utf-8') as f:\n",
    "    data = json.load(f)\n",
    "print(f'Datos cargados: {len(data)} entradas')\n",
    "\n",
    "# Separar train/test\n",
    "train_data, test_data = train_test_split(data, test_size=0.2, random_state=42)\n",
    "print(f'Datos separados: {len(train_data)} train, {len(test_data)} test')"
   ]
  },
  {
   "cell_type": "code",
   "execution_count": null,
   "metadata": {},
   "outputs": [],
   "source": [
    "# Configurar tokenizer\n",
    "if tokenizer.pad_token is None:\n",
    "    tokenizer.pad_token = tokenizer.eos_token\n",
    "\n",
    "class SimpleDataset:\n",
    "    def __init__(self, data, processor, tokenizer):\n",
    "        self.data = data\n",
    "        self.processor = processor\n",
    "        self.tokenizer = tokenizer\n",
    "    \n",
    "    def __len__(self):\n",
    "        return len(self.data)\n",
    "    \n",
    "    def __getitem__(self, idx):\n",
    "        item = self.data[idx]\n",
    "        \n",
    "        # Cargar imagen\n",
    "        image_path = os.path.join('images', item['imagen'])\n",
    "        image = Image.open(image_path).convert('RGB')\n",
    "        \n",
    "        # Procesar imagen\n",
    "        pixel_values = self.processor(image, return_tensors='pt').pixel_values.squeeze()\n",
    "        \n",
    "        # Tokenizar texto\n",
    "        text = item['texto']\n",
    "        labels = self.tokenizer(\n",
    "            text, \n",
    "            truncation=True, \n",
    "            padding='max_length', \n",
    "            max_length=128,\n",
    "            return_tensors='pt'\n",
    "        ).input_ids.squeeze()\n",
    "        \n",
    "        return {\n",
    "            'pixel_values': pixel_values,\n",
    "            'labels': labels\n",
    "        }\n",
    "\n",
    "# Crear datasets\n",
    "train_dataset = SimpleDataset(train_data, feature_extractor, tokenizer)\n",
    "test_dataset = SimpleDataset(test_data, feature_extractor, tokenizer)"
   ]
  },
  {
   "cell_type": "code",
   "execution_count": null,
   "metadata": {},
   "outputs": [],
   "source": [
    "def trainModel(batch_size, learning_rate, num_epochs, saveModel=False):\n",
    "    \"\"\"Función ultra simple para entrenar modelo\"\"\"\n",
    "    print(f'\\nEntrenando con:')\n",
    "    print(f'  batch_size: {batch_size}')\n",
    "    print(f'  learning_rate: {learning_rate}')\n",
    "    print(f'  num_epochs: {num_epochs}')\n",
    "    \n",
    "    # Configurar entrenamiento - SOLO argumentos básicos\n",
    "    training_args = TrainingArguments(\n",
    "        output_dir='./results',\n",
    "        per_device_train_batch_size=batch_size,\n",
    "        per_device_eval_batch_size=batch_size,\n",
    "        learning_rate=learning_rate,\n",
    "        num_train_epochs=num_epochs,\n",
    "        logging_dir='./logs'\n",
    "    )\n",
    "    \n",
    "    # Crear trainer - SIN métricas complejas\n",
    "    trainer = Trainer(\n",
    "        model=model,\n",
    "        args=training_args,\n",
    "        train_dataset=train_dataset,\n",
    "        eval_dataset=test_dataset\n",
    "    )\n",
    "    \n",
    "    # Entrenar\n",
    "    trainer.train()\n",
    "    \n",
    "    # Evaluar\n",
    "    eval_results = trainer.evaluate()\n",
    "    \n",
    "    # MLflow\n",
    "    with mlflow.start_run(run_name=f'image-finetune-bs{batch_size}-lr{learning_rate}-ep{num_epochs}'):\n",
    "        mlflow.log_params({\n",
    "            'batch_size': batch_size,\n",
    "            'learning_rate': learning_rate,\n",
    "            'num_epochs': num_epochs\n",
    "        })\n",
    "        \n",
    "        mlflow.log_metrics({\n",
    "            'eval_loss': eval_results['eval_loss']\n",
    "        })\n",
    "        \n",
    "        if saveModel:\n",
    "            mlflow.pytorch.log_model(model, 'model', registered_model_name=MLFLOW_MODEL_NAME)\n",
    "            \n",
    "        return eval_results"
   ]
  },
  {
   "cell_type": "code",
   "execution_count": null,
   "metadata": {},
   "outputs": [],
   "source": [
    "# Parámetros para probar\n",
    "batch_sizes = [1, 2, 4]\n",
    "learning_rates = [5e-5, 1e-4, 2e-4, 5e-4]\n",
    "num_epochs_list = [3]\n",
    "\n",
    "# Entrenar con diferentes configuraciones\n",
    "for batch_size in batch_sizes:\n",
    "    for learning_rate in learning_rates:\n",
    "        for num_epochs in num_epochs_list:\n",
    "            trainModel(batch_size, learning_rate, num_epochs)"
   ]
  },
  {
   "cell_type": "code",
   "execution_count": null,
   "metadata": {},
   "outputs": [],
   "source": [
    "# Guardar el mejor modelo (ajustar parámetros según resultados)\n",
    "print('Guardando mejor modelo...')\n",
    "trainModel(2, 1e-4, 3, saveModel=True)\n",
    "print('Modelo guardado en MLflow!')"
   ]
  }
 ],
 "metadata": {
  "kernelspec": {
   "display_name": "Python 3",
   "language": "python",
   "name": "python3"
  },
  "language_info": {
   "codemirror_mode": {
    "name": "ipython",
    "version": 3
   },
   "file_extension": ".py",
   "mimetype": "text/x-python",
   "name": "python",
   "nbconvert_exporter": "python",
   "pygments_lexer": "ipython3",
   "version": "3.8.5"
  }
 },
 "nbformat": 4,
 "nbformat_minor": 4
} 