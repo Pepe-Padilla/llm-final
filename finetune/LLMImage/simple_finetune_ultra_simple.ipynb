{
 "cells": [
  {
   "cell_type": "markdown",
   "metadata": {},
   "source": [
    "# Fine-tuning Ultra Simple: Imagen a Texto\n",
    "\n",
    "Versión ultra simplificada sin métricas complejas"
   ]
  },
  {
   "cell_type": "code",
   "execution_count": 1,
   "metadata": {},
   "outputs": [
    {
     "name": "stderr",
     "output_type": "stream",
     "text": [
      "c:\\Users\\Usuario\\AppData\\Local\\Programs\\Python\\Python313\\Lib\\site-packages\\tqdm\\auto.py:21: TqdmWarning: IProgress not found. Please update jupyter and ipywidgets. See https://ipywidgets.readthedocs.io/en/stable/user_install.html\n",
      "  from .autonotebook import tqdm as notebook_tqdm\n"
     ]
    }
   ],
   "source": [
    "import json\n",
    "import os\n",
    "import torch\n",
    "from transformers import (\n",
    "    VisionEncoderDecoderModel, \n",
    "    ViTImageProcessor, \n",
    "    AutoTokenizer,\n",
    "    TrainingArguments,\n",
    "    Trainer\n",
    ")\n",
    "import mlflow\n",
    "import mlflow.pytorch\n",
    "from PIL import Image\n",
    "from sklearn.model_selection import train_test_split\n",
    "import numpy as np"
   ]
  },
  {
   "cell_type": "code",
   "execution_count": 2,
   "metadata": {},
   "outputs": [
    {
     "data": {
      "text/plain": [
       "<Experiment: artifact_location='mlflow-artifacts:/794479321199106868', creation_time=1751904853017, experiment_id='794479321199106868', last_update_time=1751904853017, lifecycle_stage='active', name='image-finetune', tags={}>"
      ]
     },
     "execution_count": 2,
     "metadata": {},
     "output_type": "execute_result"
    }
   ],
   "source": [
    "# Configuración\n",
    "MODEL_NAME = 'nlpconnect/vit-gpt2-image-captioning'\n",
    "MLFLOW_MODEL_NAME = 'image-to-text-finetuned'\n",
    "mlflow.set_tracking_uri('http://localhost:5000')\n",
    "mlflow.set_experiment('image-finetune')"
   ]
  },
  {
   "cell_type": "code",
   "execution_count": 4,
   "metadata": {},
   "outputs": [
    {
     "name": "stdout",
     "output_type": "stream",
     "text": [
      "Descargando modelo base...\n",
      "Modelo base descargado.\n"
     ]
    }
   ],
   "source": [
    "# Descargar modelo base\n",
    "print('Descargando modelo base...')\n",
    "model = VisionEncoderDecoderModel.from_pretrained(MODEL_NAME)\n",
    "feature_extractor = ViTImageProcessor.from_pretrained(MODEL_NAME)\n",
    "tokenizer = AutoTokenizer.from_pretrained(MODEL_NAME)\n",
    "print('Modelo base descargado.')"
   ]
  },
  {
   "cell_type": "code",
   "execution_count": 5,
   "metadata": {},
   "outputs": [
    {
     "name": "stdout",
     "output_type": "stream",
     "text": [
      "Cargando datos...\n",
      "Datos cargados: 83 entradas\n",
      "Datos separados: 66 train, 17 test\n"
     ]
    }
   ],
   "source": [
    "# Cargar datos\n",
    "print('Cargando datos...')\n",
    "with open('entradas.json', 'r', encoding='utf-8') as f:\n",
    "    data = json.load(f)\n",
    "print(f'Datos cargados: {len(data)} entradas')\n",
    "\n",
    "# Separar train/test\n",
    "train_data, test_data = train_test_split(data, test_size=0.2, random_state=42)\n",
    "print(f'Datos separados: {len(train_data)} train, {len(test_data)} test')"
   ]
  },
  {
   "cell_type": "code",
   "execution_count": 6,
   "metadata": {},
   "outputs": [],
   "source": [
    "# Configurar tokenizer\n",
    "if tokenizer.pad_token is None:\n",
    "    tokenizer.pad_token = tokenizer.eos_token\n",
    "\n",
    "class SimpleDataset:\n",
    "    def __init__(self, data, processor, tokenizer):\n",
    "        self.data = data\n",
    "        self.processor = processor\n",
    "        self.tokenizer = tokenizer\n",
    "    \n",
    "    def __len__(self):\n",
    "        return len(self.data)\n",
    "    \n",
    "    def __getitem__(self, idx):\n",
    "        item = self.data[idx]\n",
    "        \n",
    "        # Cargar imagen\n",
    "        image_path = os.path.join('images', item['imagen'])\n",
    "        image = Image.open(image_path).convert('RGB')\n",
    "        \n",
    "        # Procesar imagen\n",
    "        pixel_values = self.processor(image, return_tensors='pt').pixel_values.squeeze()\n",
    "        \n",
    "        # Tokenizar texto\n",
    "        text = item['texto']\n",
    "        labels = self.tokenizer(\n",
    "            text, \n",
    "            truncation=True, \n",
    "            padding='max_length', \n",
    "            max_length=128,\n",
    "            return_tensors='pt'\n",
    "        ).input_ids.squeeze()\n",
    "        \n",
    "        return {\n",
    "            'pixel_values': pixel_values,\n",
    "            'labels': labels\n",
    "        }\n",
    "\n",
    "# Crear datasets\n",
    "train_dataset = SimpleDataset(train_data, feature_extractor, tokenizer)\n",
    "test_dataset = SimpleDataset(test_data, feature_extractor, tokenizer)"
   ]
  },
  {
   "cell_type": "code",
   "execution_count": 9,
   "metadata": {},
   "outputs": [],
   "source": [
    "def trainModel(batch_size, learning_rate, num_epochs, saveModel=False):\n",
    "    \"\"\"Función ultra simple para entrenar modelo\"\"\"\n",
    "    print(f'\\nEntrenando con:')\n",
    "    print(f'  batch_size: {batch_size}')\n",
    "    print(f'  learning_rate: {learning_rate}')\n",
    "    print(f'  num_epochs: {num_epochs}')\n",
    "    \n",
    "    # Configurar entrenamiento - SOLO argumentos básicos\n",
    "    training_args = TrainingArguments(\n",
    "        output_dir='./results',\n",
    "        per_device_train_batch_size=batch_size,\n",
    "        per_device_eval_batch_size=batch_size,\n",
    "        learning_rate=learning_rate,\n",
    "        num_train_epochs=num_epochs,\n",
    "        logging_dir='./logs'\n",
    "    )\n",
    "    \n",
    "    # Crear trainer - SIN métricas complejas\n",
    "    trainer = Trainer(\n",
    "        model=model,\n",
    "        args=training_args,\n",
    "        train_dataset=train_dataset,\n",
    "        eval_dataset=test_dataset\n",
    "    )\n",
    "    \n",
    "    # Entrenar\n",
    "    trainer.train()\n",
    "    \n",
    "    # Evaluar\n",
    "    eval_results = trainer.evaluate()\n",
    "    \n",
    "    # MLflow - cerrar run anterior si existe\n",
    "    try:\n",
    "        mlflow.end_run()\n",
    "    except:\n",
    "        pass\n",
    "    \n",
    "    with mlflow.start_run(run_name=f'image-finetune-bs{batch_size}-lr{learning_rate}-ep{num_epochs}'):\n",
    "        mlflow.log_params({\n",
    "            'batch_size': batch_size,\n",
    "            'learning_rate': learning_rate,\n",
    "            'num_epochs': num_epochs\n",
    "        })\n",
    "        \n",
    "        mlflow.log_metrics({\n",
    "            'eval_loss': eval_results['eval_loss']\n",
    "        })\n",
    "        \n",
    "        if saveModel:\n",
    "            mlflow.pytorch.log_model(model, 'model', registered_model_name=MLFLOW_MODEL_NAME)\n",
    "            \n",
    "        return eval_results"
   ]
  },
  {
   "cell_type": "code",
   "execution_count": 10,
   "metadata": {},
   "outputs": [
    {
     "name": "stdout",
     "output_type": "stream",
     "text": [
      "\n",
      "Entrenando con:\n",
      "  batch_size: 1\n",
      "  learning_rate: 5e-05\n",
      "  num_epochs: 3\n"
     ]
    },
    {
     "data": {
      "text/html": [
       "\n",
       "    <div>\n",
       "      \n",
       "      <progress value='198' max='198' style='width:300px; height:20px; vertical-align: middle;'></progress>\n",
       "      [198/198 02:41, Epoch 3/3]\n",
       "    </div>\n",
       "    <table border=\"1\" class=\"dataframe\">\n",
       "  <thead>\n",
       " <tr style=\"text-align: left;\">\n",
       "      <th>Step</th>\n",
       "      <th>Training Loss</th>\n",
       "    </tr>\n",
       "  </thead>\n",
       "  <tbody>\n",
       "  </tbody>\n",
       "</table><p>"
      ],
      "text/plain": [
       "<IPython.core.display.HTML object>"
      ]
     },
     "metadata": {},
     "output_type": "display_data"
    },
    {
     "data": {
      "text/html": [
       "\n",
       "    <div>\n",
       "      \n",
       "      <progress value='17' max='17' style='width:300px; height:20px; vertical-align: middle;'></progress>\n",
       "      [17/17 00:02]\n",
       "    </div>\n",
       "    "
      ],
      "text/plain": [
       "<IPython.core.display.HTML object>"
      ]
     },
     "metadata": {},
     "output_type": "display_data"
    },
    {
     "name": "stdout",
     "output_type": "stream",
     "text": [
      "🏃 View run stylish-foal-306 at: http://localhost:5000/#/experiments/794479321199106868/runs/98b40779ce5f465d8ef1dd36ee5373fc\n",
      "🧪 View experiment at: http://localhost:5000/#/experiments/794479321199106868\n",
      "🏃 View run image-finetune-bs1-lr5e-05-ep3 at: http://localhost:5000/#/experiments/794479321199106868/runs/732b1548e5364e709049e8cd616659f3\n",
      "🧪 View experiment at: http://localhost:5000/#/experiments/794479321199106868\n",
      "\n",
      "Entrenando con:\n",
      "  batch_size: 1\n",
      "  learning_rate: 0.0001\n",
      "  num_epochs: 3\n"
     ]
    },
    {
     "data": {
      "text/html": [
       "\n",
       "    <div>\n",
       "      \n",
       "      <progress value='198' max='198' style='width:300px; height:20px; vertical-align: middle;'></progress>\n",
       "      [198/198 02:44, Epoch 3/3]\n",
       "    </div>\n",
       "    <table border=\"1\" class=\"dataframe\">\n",
       "  <thead>\n",
       " <tr style=\"text-align: left;\">\n",
       "      <th>Step</th>\n",
       "      <th>Training Loss</th>\n",
       "    </tr>\n",
       "  </thead>\n",
       "  <tbody>\n",
       "  </tbody>\n",
       "</table><p>"
      ],
      "text/plain": [
       "<IPython.core.display.HTML object>"
      ]
     },
     "metadata": {},
     "output_type": "display_data"
    },
    {
     "name": "stdout",
     "output_type": "stream",
     "text": [
      "🏃 View run ./results at: http://localhost:5000/#/experiments/794479321199106868/runs/977798a347174d068601e1621b9dfcc0\n",
      "🧪 View experiment at: http://localhost:5000/#/experiments/794479321199106868\n"
     ]
    },
    {
     "data": {
      "text/html": [
       "\n",
       "    <div>\n",
       "      \n",
       "      <progress value='17' max='17' style='width:300px; height:20px; vertical-align: middle;'></progress>\n",
       "      [17/17 00:02]\n",
       "    </div>\n",
       "    "
      ],
      "text/plain": [
       "<IPython.core.display.HTML object>"
      ]
     },
     "metadata": {},
     "output_type": "display_data"
    },
    {
     "name": "stdout",
     "output_type": "stream",
     "text": [
      "🏃 View run indecisive-sheep-581 at: http://localhost:5000/#/experiments/794479321199106868/runs/c6c32c7c5b3e4b6199b08bd1a67ace17\n",
      "🧪 View experiment at: http://localhost:5000/#/experiments/794479321199106868\n",
      "🏃 View run image-finetune-bs1-lr0.0001-ep3 at: http://localhost:5000/#/experiments/794479321199106868/runs/a3c8e0f26caa4d44853458ed9ae322fa\n",
      "🧪 View experiment at: http://localhost:5000/#/experiments/794479321199106868\n",
      "\n",
      "Entrenando con:\n",
      "  batch_size: 1\n",
      "  learning_rate: 0.0002\n",
      "  num_epochs: 3\n"
     ]
    },
    {
     "data": {
      "text/html": [
       "\n",
       "    <div>\n",
       "      \n",
       "      <progress value='198' max='198' style='width:300px; height:20px; vertical-align: middle;'></progress>\n",
       "      [198/198 02:55, Epoch 3/3]\n",
       "    </div>\n",
       "    <table border=\"1\" class=\"dataframe\">\n",
       "  <thead>\n",
       " <tr style=\"text-align: left;\">\n",
       "      <th>Step</th>\n",
       "      <th>Training Loss</th>\n",
       "    </tr>\n",
       "  </thead>\n",
       "  <tbody>\n",
       "  </tbody>\n",
       "</table><p>"
      ],
      "text/plain": [
       "<IPython.core.display.HTML object>"
      ]
     },
     "metadata": {},
     "output_type": "display_data"
    },
    {
     "name": "stdout",
     "output_type": "stream",
     "text": [
      "🏃 View run ./results at: http://localhost:5000/#/experiments/794479321199106868/runs/5f189212cde34948b3c914ebdfc59259\n",
      "🧪 View experiment at: http://localhost:5000/#/experiments/794479321199106868\n"
     ]
    },
    {
     "data": {
      "text/html": [
       "\n",
       "    <div>\n",
       "      \n",
       "      <progress value='17' max='17' style='width:300px; height:20px; vertical-align: middle;'></progress>\n",
       "      [17/17 00:02]\n",
       "    </div>\n",
       "    "
      ],
      "text/plain": [
       "<IPython.core.display.HTML object>"
      ]
     },
     "metadata": {},
     "output_type": "display_data"
    },
    {
     "name": "stdout",
     "output_type": "stream",
     "text": [
      "🏃 View run resilient-wolf-697 at: http://localhost:5000/#/experiments/794479321199106868/runs/b2f6b39bcbf34806aa62ceb17d36a1be\n",
      "🧪 View experiment at: http://localhost:5000/#/experiments/794479321199106868\n",
      "🏃 View run image-finetune-bs1-lr0.0002-ep3 at: http://localhost:5000/#/experiments/794479321199106868/runs/f2e3020a91d9465c9c901cecc95a19a5\n",
      "🧪 View experiment at: http://localhost:5000/#/experiments/794479321199106868\n",
      "\n",
      "Entrenando con:\n",
      "  batch_size: 1\n",
      "  learning_rate: 0.0005\n",
      "  num_epochs: 3\n"
     ]
    },
    {
     "data": {
      "text/html": [
       "\n",
       "    <div>\n",
       "      \n",
       "      <progress value='198' max='198' style='width:300px; height:20px; vertical-align: middle;'></progress>\n",
       "      [198/198 02:53, Epoch 3/3]\n",
       "    </div>\n",
       "    <table border=\"1\" class=\"dataframe\">\n",
       "  <thead>\n",
       " <tr style=\"text-align: left;\">\n",
       "      <th>Step</th>\n",
       "      <th>Training Loss</th>\n",
       "    </tr>\n",
       "  </thead>\n",
       "  <tbody>\n",
       "  </tbody>\n",
       "</table><p>"
      ],
      "text/plain": [
       "<IPython.core.display.HTML object>"
      ]
     },
     "metadata": {},
     "output_type": "display_data"
    },
    {
     "name": "stdout",
     "output_type": "stream",
     "text": [
      "🏃 View run ./results at: http://localhost:5000/#/experiments/794479321199106868/runs/439c061b3a9f49448ac1a4102e4670ee\n",
      "🧪 View experiment at: http://localhost:5000/#/experiments/794479321199106868\n"
     ]
    },
    {
     "data": {
      "text/html": [
       "\n",
       "    <div>\n",
       "      \n",
       "      <progress value='17' max='17' style='width:300px; height:20px; vertical-align: middle;'></progress>\n",
       "      [17/17 00:02]\n",
       "    </div>\n",
       "    "
      ],
      "text/plain": [
       "<IPython.core.display.HTML object>"
      ]
     },
     "metadata": {},
     "output_type": "display_data"
    },
    {
     "name": "stdout",
     "output_type": "stream",
     "text": [
      "🏃 View run big-owl-944 at: http://localhost:5000/#/experiments/794479321199106868/runs/ef3357c3a36b43478c7b949497d1c1d8\n",
      "🧪 View experiment at: http://localhost:5000/#/experiments/794479321199106868\n",
      "🏃 View run image-finetune-bs1-lr0.0005-ep3 at: http://localhost:5000/#/experiments/794479321199106868/runs/f12ed999870e40019e54d08207b990d8\n",
      "🧪 View experiment at: http://localhost:5000/#/experiments/794479321199106868\n",
      "\n",
      "Entrenando con:\n",
      "  batch_size: 2\n",
      "  learning_rate: 5e-05\n",
      "  num_epochs: 3\n"
     ]
    },
    {
     "data": {
      "text/html": [
       "\n",
       "    <div>\n",
       "      \n",
       "      <progress value='99' max='99' style='width:300px; height:20px; vertical-align: middle;'></progress>\n",
       "      [99/99 02:07, Epoch 3/3]\n",
       "    </div>\n",
       "    <table border=\"1\" class=\"dataframe\">\n",
       "  <thead>\n",
       " <tr style=\"text-align: left;\">\n",
       "      <th>Step</th>\n",
       "      <th>Training Loss</th>\n",
       "    </tr>\n",
       "  </thead>\n",
       "  <tbody>\n",
       "  </tbody>\n",
       "</table><p>"
      ],
      "text/plain": [
       "<IPython.core.display.HTML object>"
      ]
     },
     "metadata": {},
     "output_type": "display_data"
    },
    {
     "name": "stdout",
     "output_type": "stream",
     "text": [
      "🏃 View run ./results at: http://localhost:5000/#/experiments/794479321199106868/runs/60901072f9f7470798d0ca324812c117\n",
      "🧪 View experiment at: http://localhost:5000/#/experiments/794479321199106868\n"
     ]
    },
    {
     "data": {
      "text/html": [
       "\n",
       "    <div>\n",
       "      \n",
       "      <progress value='9' max='9' style='width:300px; height:20px; vertical-align: middle;'></progress>\n",
       "      [9/9 00:02]\n",
       "    </div>\n",
       "    "
      ],
      "text/plain": [
       "<IPython.core.display.HTML object>"
      ]
     },
     "metadata": {},
     "output_type": "display_data"
    },
    {
     "name": "stdout",
     "output_type": "stream",
     "text": [
      "🏃 View run incongruous-ant-827 at: http://localhost:5000/#/experiments/794479321199106868/runs/9b063d6a1f3e4dd4afd359fbabeefd41\n",
      "🧪 View experiment at: http://localhost:5000/#/experiments/794479321199106868\n",
      "🏃 View run image-finetune-bs2-lr5e-05-ep3 at: http://localhost:5000/#/experiments/794479321199106868/runs/84ab85cdd308482db6d190735b644b03\n",
      "🧪 View experiment at: http://localhost:5000/#/experiments/794479321199106868\n",
      "\n",
      "Entrenando con:\n",
      "  batch_size: 2\n",
      "  learning_rate: 0.0001\n",
      "  num_epochs: 3\n"
     ]
    },
    {
     "data": {
      "text/html": [
       "\n",
       "    <div>\n",
       "      \n",
       "      <progress value='99' max='99' style='width:300px; height:20px; vertical-align: middle;'></progress>\n",
       "      [99/99 02:14, Epoch 3/3]\n",
       "    </div>\n",
       "    <table border=\"1\" class=\"dataframe\">\n",
       "  <thead>\n",
       " <tr style=\"text-align: left;\">\n",
       "      <th>Step</th>\n",
       "      <th>Training Loss</th>\n",
       "    </tr>\n",
       "  </thead>\n",
       "  <tbody>\n",
       "  </tbody>\n",
       "</table><p>"
      ],
      "text/plain": [
       "<IPython.core.display.HTML object>"
      ]
     },
     "metadata": {},
     "output_type": "display_data"
    },
    {
     "name": "stdout",
     "output_type": "stream",
     "text": [
      "🏃 View run ./results at: http://localhost:5000/#/experiments/794479321199106868/runs/3c704f2c7bd14d0bb6ba654156f31e65\n",
      "🧪 View experiment at: http://localhost:5000/#/experiments/794479321199106868\n"
     ]
    },
    {
     "data": {
      "text/html": [
       "\n",
       "    <div>\n",
       "      \n",
       "      <progress value='9' max='9' style='width:300px; height:20px; vertical-align: middle;'></progress>\n",
       "      [9/9 00:02]\n",
       "    </div>\n",
       "    "
      ],
      "text/plain": [
       "<IPython.core.display.HTML object>"
      ]
     },
     "metadata": {},
     "output_type": "display_data"
    },
    {
     "name": "stdout",
     "output_type": "stream",
     "text": [
      "🏃 View run magnificent-koi-269 at: http://localhost:5000/#/experiments/794479321199106868/runs/0425743f16d6407a9d6460f1181d8d86\n",
      "🧪 View experiment at: http://localhost:5000/#/experiments/794479321199106868\n",
      "🏃 View run image-finetune-bs2-lr0.0001-ep3 at: http://localhost:5000/#/experiments/794479321199106868/runs/83c411fd661049e0a4ad9c6c8ab96fa7\n",
      "🧪 View experiment at: http://localhost:5000/#/experiments/794479321199106868\n",
      "\n",
      "Entrenando con:\n",
      "  batch_size: 2\n",
      "  learning_rate: 0.0002\n",
      "  num_epochs: 3\n"
     ]
    },
    {
     "data": {
      "text/html": [
       "\n",
       "    <div>\n",
       "      \n",
       "      <progress value='99' max='99' style='width:300px; height:20px; vertical-align: middle;'></progress>\n",
       "      [99/99 02:08, Epoch 3/3]\n",
       "    </div>\n",
       "    <table border=\"1\" class=\"dataframe\">\n",
       "  <thead>\n",
       " <tr style=\"text-align: left;\">\n",
       "      <th>Step</th>\n",
       "      <th>Training Loss</th>\n",
       "    </tr>\n",
       "  </thead>\n",
       "  <tbody>\n",
       "  </tbody>\n",
       "</table><p>"
      ],
      "text/plain": [
       "<IPython.core.display.HTML object>"
      ]
     },
     "metadata": {},
     "output_type": "display_data"
    },
    {
     "name": "stdout",
     "output_type": "stream",
     "text": [
      "🏃 View run ./results at: http://localhost:5000/#/experiments/794479321199106868/runs/c59071badbd04debbba3015c533b293d\n",
      "🧪 View experiment at: http://localhost:5000/#/experiments/794479321199106868\n"
     ]
    },
    {
     "data": {
      "text/html": [
       "\n",
       "    <div>\n",
       "      \n",
       "      <progress value='9' max='9' style='width:300px; height:20px; vertical-align: middle;'></progress>\n",
       "      [9/9 00:02]\n",
       "    </div>\n",
       "    "
      ],
      "text/plain": [
       "<IPython.core.display.HTML object>"
      ]
     },
     "metadata": {},
     "output_type": "display_data"
    },
    {
     "name": "stdout",
     "output_type": "stream",
     "text": [
      "🏃 View run burly-boar-541 at: http://localhost:5000/#/experiments/794479321199106868/runs/e39cb40053c24a7e831c985516e06867\n",
      "🧪 View experiment at: http://localhost:5000/#/experiments/794479321199106868\n",
      "🏃 View run image-finetune-bs2-lr0.0002-ep3 at: http://localhost:5000/#/experiments/794479321199106868/runs/9d3c790faab34c9cb878ec599a8d3e2f\n",
      "🧪 View experiment at: http://localhost:5000/#/experiments/794479321199106868\n",
      "\n",
      "Entrenando con:\n",
      "  batch_size: 2\n",
      "  learning_rate: 0.0005\n",
      "  num_epochs: 3\n"
     ]
    },
    {
     "data": {
      "text/html": [
       "\n",
       "    <div>\n",
       "      \n",
       "      <progress value='99' max='99' style='width:300px; height:20px; vertical-align: middle;'></progress>\n",
       "      [99/99 02:08, Epoch 3/3]\n",
       "    </div>\n",
       "    <table border=\"1\" class=\"dataframe\">\n",
       "  <thead>\n",
       " <tr style=\"text-align: left;\">\n",
       "      <th>Step</th>\n",
       "      <th>Training Loss</th>\n",
       "    </tr>\n",
       "  </thead>\n",
       "  <tbody>\n",
       "  </tbody>\n",
       "</table><p>"
      ],
      "text/plain": [
       "<IPython.core.display.HTML object>"
      ]
     },
     "metadata": {},
     "output_type": "display_data"
    },
    {
     "name": "stdout",
     "output_type": "stream",
     "text": [
      "🏃 View run ./results at: http://localhost:5000/#/experiments/794479321199106868/runs/820dc47a981f4478a668e2c29739423f\n",
      "🧪 View experiment at: http://localhost:5000/#/experiments/794479321199106868\n"
     ]
    },
    {
     "data": {
      "text/html": [
       "\n",
       "    <div>\n",
       "      \n",
       "      <progress value='9' max='9' style='width:300px; height:20px; vertical-align: middle;'></progress>\n",
       "      [9/9 00:02]\n",
       "    </div>\n",
       "    "
      ],
      "text/plain": [
       "<IPython.core.display.HTML object>"
      ]
     },
     "metadata": {},
     "output_type": "display_data"
    },
    {
     "name": "stdout",
     "output_type": "stream",
     "text": [
      "🏃 View run rebellious-duck-727 at: http://localhost:5000/#/experiments/794479321199106868/runs/c73de85b9a1b4fa9a84e847cd9233ddf\n",
      "🧪 View experiment at: http://localhost:5000/#/experiments/794479321199106868\n",
      "🏃 View run image-finetune-bs2-lr0.0005-ep3 at: http://localhost:5000/#/experiments/794479321199106868/runs/74e029b217d645e79c84118441674a38\n",
      "🧪 View experiment at: http://localhost:5000/#/experiments/794479321199106868\n",
      "\n",
      "Entrenando con:\n",
      "  batch_size: 4\n",
      "  learning_rate: 5e-05\n",
      "  num_epochs: 3\n"
     ]
    },
    {
     "data": {
      "text/html": [
       "\n",
       "    <div>\n",
       "      \n",
       "      <progress value='51' max='51' style='width:300px; height:20px; vertical-align: middle;'></progress>\n",
       "      [51/51 01:54, Epoch 3/3]\n",
       "    </div>\n",
       "    <table border=\"1\" class=\"dataframe\">\n",
       "  <thead>\n",
       " <tr style=\"text-align: left;\">\n",
       "      <th>Step</th>\n",
       "      <th>Training Loss</th>\n",
       "    </tr>\n",
       "  </thead>\n",
       "  <tbody>\n",
       "  </tbody>\n",
       "</table><p>"
      ],
      "text/plain": [
       "<IPython.core.display.HTML object>"
      ]
     },
     "metadata": {},
     "output_type": "display_data"
    },
    {
     "name": "stdout",
     "output_type": "stream",
     "text": [
      "🏃 View run ./results at: http://localhost:5000/#/experiments/794479321199106868/runs/fed5ef567fdd4498b80d2a6f5c13072f\n",
      "🧪 View experiment at: http://localhost:5000/#/experiments/794479321199106868\n"
     ]
    },
    {
     "data": {
      "text/html": [
       "\n",
       "    <div>\n",
       "      \n",
       "      <progress value='5' max='5' style='width:300px; height:20px; vertical-align: middle;'></progress>\n",
       "      [5/5 00:01]\n",
       "    </div>\n",
       "    "
      ],
      "text/plain": [
       "<IPython.core.display.HTML object>"
      ]
     },
     "metadata": {},
     "output_type": "display_data"
    },
    {
     "name": "stdout",
     "output_type": "stream",
     "text": [
      "🏃 View run spiffy-quail-310 at: http://localhost:5000/#/experiments/794479321199106868/runs/fa0e8b64818a4db9b47f099c3911e950\n",
      "🧪 View experiment at: http://localhost:5000/#/experiments/794479321199106868\n",
      "🏃 View run image-finetune-bs4-lr5e-05-ep3 at: http://localhost:5000/#/experiments/794479321199106868/runs/2a70c896ed914b829b4616e71a4134c9\n",
      "🧪 View experiment at: http://localhost:5000/#/experiments/794479321199106868\n",
      "\n",
      "Entrenando con:\n",
      "  batch_size: 4\n",
      "  learning_rate: 0.0001\n",
      "  num_epochs: 3\n"
     ]
    },
    {
     "data": {
      "text/html": [
       "\n",
       "    <div>\n",
       "      \n",
       "      <progress value='51' max='51' style='width:300px; height:20px; vertical-align: middle;'></progress>\n",
       "      [51/51 01:50, Epoch 3/3]\n",
       "    </div>\n",
       "    <table border=\"1\" class=\"dataframe\">\n",
       "  <thead>\n",
       " <tr style=\"text-align: left;\">\n",
       "      <th>Step</th>\n",
       "      <th>Training Loss</th>\n",
       "    </tr>\n",
       "  </thead>\n",
       "  <tbody>\n",
       "  </tbody>\n",
       "</table><p>"
      ],
      "text/plain": [
       "<IPython.core.display.HTML object>"
      ]
     },
     "metadata": {},
     "output_type": "display_data"
    },
    {
     "name": "stdout",
     "output_type": "stream",
     "text": [
      "🏃 View run ./results at: http://localhost:5000/#/experiments/794479321199106868/runs/c4eede30ef8c4d8b81425cd2160d1940\n",
      "🧪 View experiment at: http://localhost:5000/#/experiments/794479321199106868\n"
     ]
    },
    {
     "data": {
      "text/html": [
       "\n",
       "    <div>\n",
       "      \n",
       "      <progress value='5' max='5' style='width:300px; height:20px; vertical-align: middle;'></progress>\n",
       "      [5/5 00:01]\n",
       "    </div>\n",
       "    "
      ],
      "text/plain": [
       "<IPython.core.display.HTML object>"
      ]
     },
     "metadata": {},
     "output_type": "display_data"
    },
    {
     "name": "stdout",
     "output_type": "stream",
     "text": [
      "🏃 View run painted-deer-743 at: http://localhost:5000/#/experiments/794479321199106868/runs/34b351e609584010886328cda161f337\n",
      "🧪 View experiment at: http://localhost:5000/#/experiments/794479321199106868\n",
      "🏃 View run image-finetune-bs4-lr0.0001-ep3 at: http://localhost:5000/#/experiments/794479321199106868/runs/104dd02148da44deb2f472776b7bcce3\n",
      "🧪 View experiment at: http://localhost:5000/#/experiments/794479321199106868\n",
      "\n",
      "Entrenando con:\n",
      "  batch_size: 4\n",
      "  learning_rate: 0.0002\n",
      "  num_epochs: 3\n"
     ]
    },
    {
     "data": {
      "text/html": [
       "\n",
       "    <div>\n",
       "      \n",
       "      <progress value='51' max='51' style='width:300px; height:20px; vertical-align: middle;'></progress>\n",
       "      [51/51 01:49, Epoch 3/3]\n",
       "    </div>\n",
       "    <table border=\"1\" class=\"dataframe\">\n",
       "  <thead>\n",
       " <tr style=\"text-align: left;\">\n",
       "      <th>Step</th>\n",
       "      <th>Training Loss</th>\n",
       "    </tr>\n",
       "  </thead>\n",
       "  <tbody>\n",
       "  </tbody>\n",
       "</table><p>"
      ],
      "text/plain": [
       "<IPython.core.display.HTML object>"
      ]
     },
     "metadata": {},
     "output_type": "display_data"
    },
    {
     "name": "stdout",
     "output_type": "stream",
     "text": [
      "🏃 View run ./results at: http://localhost:5000/#/experiments/794479321199106868/runs/6292ce816c27456e99ce7f132d0f5d95\n",
      "🧪 View experiment at: http://localhost:5000/#/experiments/794479321199106868\n"
     ]
    },
    {
     "data": {
      "text/html": [
       "\n",
       "    <div>\n",
       "      \n",
       "      <progress value='5' max='5' style='width:300px; height:20px; vertical-align: middle;'></progress>\n",
       "      [5/5 00:01]\n",
       "    </div>\n",
       "    "
      ],
      "text/plain": [
       "<IPython.core.display.HTML object>"
      ]
     },
     "metadata": {},
     "output_type": "display_data"
    },
    {
     "name": "stdout",
     "output_type": "stream",
     "text": [
      "🏃 View run nervous-panda-210 at: http://localhost:5000/#/experiments/794479321199106868/runs/7c7c94ede3ff498c8e87b86e9655d04d\n",
      "🧪 View experiment at: http://localhost:5000/#/experiments/794479321199106868\n",
      "🏃 View run image-finetune-bs4-lr0.0002-ep3 at: http://localhost:5000/#/experiments/794479321199106868/runs/c35a2485ee9945d193a8982a2de120c1\n",
      "🧪 View experiment at: http://localhost:5000/#/experiments/794479321199106868\n",
      "\n",
      "Entrenando con:\n",
      "  batch_size: 4\n",
      "  learning_rate: 0.0005\n",
      "  num_epochs: 3\n"
     ]
    },
    {
     "data": {
      "text/html": [
       "\n",
       "    <div>\n",
       "      \n",
       "      <progress value='51' max='51' style='width:300px; height:20px; vertical-align: middle;'></progress>\n",
       "      [51/51 01:50, Epoch 3/3]\n",
       "    </div>\n",
       "    <table border=\"1\" class=\"dataframe\">\n",
       "  <thead>\n",
       " <tr style=\"text-align: left;\">\n",
       "      <th>Step</th>\n",
       "      <th>Training Loss</th>\n",
       "    </tr>\n",
       "  </thead>\n",
       "  <tbody>\n",
       "  </tbody>\n",
       "</table><p>"
      ],
      "text/plain": [
       "<IPython.core.display.HTML object>"
      ]
     },
     "metadata": {},
     "output_type": "display_data"
    },
    {
     "name": "stdout",
     "output_type": "stream",
     "text": [
      "🏃 View run ./results at: http://localhost:5000/#/experiments/794479321199106868/runs/432cd83aecca42849d7f93e932163dde\n",
      "🧪 View experiment at: http://localhost:5000/#/experiments/794479321199106868\n"
     ]
    },
    {
     "data": {
      "text/html": [
       "\n",
       "    <div>\n",
       "      \n",
       "      <progress value='5' max='5' style='width:300px; height:20px; vertical-align: middle;'></progress>\n",
       "      [5/5 00:01]\n",
       "    </div>\n",
       "    "
      ],
      "text/plain": [
       "<IPython.core.display.HTML object>"
      ]
     },
     "metadata": {},
     "output_type": "display_data"
    },
    {
     "name": "stdout",
     "output_type": "stream",
     "text": [
      "🏃 View run polite-turtle-419 at: http://localhost:5000/#/experiments/794479321199106868/runs/b75d6b51de544fa4b40fdc44d472eb81\n",
      "🧪 View experiment at: http://localhost:5000/#/experiments/794479321199106868\n",
      "🏃 View run image-finetune-bs4-lr0.0005-ep3 at: http://localhost:5000/#/experiments/794479321199106868/runs/b682ee9d7e6142d7a868018640970cc4\n",
      "🧪 View experiment at: http://localhost:5000/#/experiments/794479321199106868\n"
     ]
    }
   ],
   "source": [
    "# Parámetros para probar\n",
    "batch_sizes = [1, 2, 4]\n",
    "learning_rates = [5e-5, 1e-4, 2e-4, 5e-4]\n",
    "num_epochs_list = [3]\n",
    "\n",
    "# Entrenar con diferentes configuraciones\n",
    "for batch_size in batch_sizes:\n",
    "    for learning_rate in learning_rates:\n",
    "        for num_epochs in num_epochs_list:\n",
    "            trainModel(batch_size, learning_rate, num_epochs)"
   ]
  },
  {
   "cell_type": "code",
   "execution_count": 11,
   "metadata": {},
   "outputs": [
    {
     "name": "stdout",
     "output_type": "stream",
     "text": [
      "Guardando mejor modelo...\n",
      "\n",
      "Entrenando con:\n",
      "  batch_size: 1\n",
      "  learning_rate: 5e-05\n",
      "  num_epochs: 4\n"
     ]
    },
    {
     "data": {
      "text/html": [
       "\n",
       "    <div>\n",
       "      \n",
       "      <progress value='264' max='264' style='width:300px; height:20px; vertical-align: middle;'></progress>\n",
       "      [264/264 03:40, Epoch 4/4]\n",
       "    </div>\n",
       "    <table border=\"1\" class=\"dataframe\">\n",
       "  <thead>\n",
       " <tr style=\"text-align: left;\">\n",
       "      <th>Step</th>\n",
       "      <th>Training Loss</th>\n",
       "    </tr>\n",
       "  </thead>\n",
       "  <tbody>\n",
       "  </tbody>\n",
       "</table><p>"
      ],
      "text/plain": [
       "<IPython.core.display.HTML object>"
      ]
     },
     "metadata": {},
     "output_type": "display_data"
    },
    {
     "name": "stdout",
     "output_type": "stream",
     "text": [
      "🏃 View run ./results at: http://localhost:5000/#/experiments/794479321199106868/runs/15e49e60b14a410892754ddbbd156ae1\n",
      "🧪 View experiment at: http://localhost:5000/#/experiments/794479321199106868\n"
     ]
    },
    {
     "data": {
      "text/html": [
       "\n",
       "    <div>\n",
       "      \n",
       "      <progress value='17' max='17' style='width:300px; height:20px; vertical-align: middle;'></progress>\n",
       "      [17/17 00:02]\n",
       "    </div>\n",
       "    "
      ],
      "text/plain": [
       "<IPython.core.display.HTML object>"
      ]
     },
     "metadata": {},
     "output_type": "display_data"
    },
    {
     "name": "stdout",
     "output_type": "stream",
     "text": [
      "🏃 View run tasteful-gnat-848 at: http://localhost:5000/#/experiments/794479321199106868/runs/0d987ad959ec4d5a8d3b63a5c29a53f8\n",
      "🧪 View experiment at: http://localhost:5000/#/experiments/794479321199106868\n"
     ]
    },
    {
     "name": "stderr",
     "output_type": "stream",
     "text": [
      "2025/07/07 20:02:27 WARNING mlflow.models.model: Model logged without a signature and input example. Please set `input_example` parameter when logging the model to auto infer the model signature.\n",
      "Successfully registered model 'image-to-text-finetuned'.\n",
      "2025/07/07 20:02:31 INFO mlflow.store.model_registry.abstract_store: Waiting up to 300 seconds for model version to finish creation. Model name: image-to-text-finetuned, version 1\n"
     ]
    },
    {
     "name": "stdout",
     "output_type": "stream",
     "text": [
      "🏃 View run image-finetune-bs1-lr5e-05-ep4 at: http://localhost:5000/#/experiments/794479321199106868/runs/6c899912ad7946bbb84fe1812a0b5778\n",
      "🧪 View experiment at: http://localhost:5000/#/experiments/794479321199106868\n",
      "Modelo guardado en MLflow!\n"
     ]
    },
    {
     "name": "stderr",
     "output_type": "stream",
     "text": [
      "Created version '1' of model 'image-to-text-finetuned'.\n"
     ]
    }
   ],
   "source": [
    "# Guardar el mejor modelo (ajustar parámetros según resultados)\n",
    "print('Guardando mejor modelo...')\n",
    "trainModel(1, 5e-5, 4, saveModel=True)\n",
    "print('Modelo guardado en MLflow!')"
   ]
  }
 ],
 "metadata": {
  "kernelspec": {
   "display_name": "Python 3",
   "language": "python",
   "name": "python3"
  },
  "language_info": {
   "codemirror_mode": {
    "name": "ipython",
    "version": 3
   },
   "file_extension": ".py",
   "mimetype": "text/x-python",
   "name": "python",
   "nbconvert_exporter": "python",
   "pygments_lexer": "ipython3",
   "version": "3.13.3"
  }
 },
 "nbformat": 4,
 "nbformat_minor": 4
}
